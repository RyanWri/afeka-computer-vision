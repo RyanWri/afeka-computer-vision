{
 "cells": [
  {
   "cell_type": "code",
   "execution_count": 1,
   "metadata": {},
   "outputs": [],
   "source": [
    "import pandas as pd"
   ]
  },
  {
   "cell_type": "code",
   "execution_count": 2,
   "metadata": {},
   "outputs": [],
   "source": [
    "df = pd.read_parquet(\n",
    "    \"/home/ran/afeka/computer-vision/experiment_baseline_no_rejection/results.parquet\"\n",
    ")\n",
    "df[\"label\"] = df[\"label\"].astype(int)"
   ]
  },
  {
   "cell_type": "code",
   "execution_count": 3,
   "metadata": {},
   "outputs": [],
   "source": [
    "df[\"probability\"] = round(df[\"probability\"], 5)"
   ]
  },
  {
   "cell_type": "code",
   "execution_count": 4,
   "metadata": {},
   "outputs": [
    {
     "data": {
      "text/plain": [
       "img_id              object\n",
       "reject                bool\n",
       "label                int64\n",
       "probability        float64\n",
       "predicted_label      int64\n",
       "dtype: object"
      ]
     },
     "execution_count": 4,
     "metadata": {},
     "output_type": "execute_result"
    }
   ],
   "source": [
    "df.dtypes"
   ]
  },
  {
   "cell_type": "code",
   "execution_count": 5,
   "metadata": {},
   "outputs": [],
   "source": [
    "df[\"margin\"] = abs(df[\"probability\"] - 0.5)\n",
    "df[\"margin\"] = df[\"margin\"].astype(float)"
   ]
  },
  {
   "cell_type": "code",
   "execution_count": 6,
   "metadata": {},
   "outputs": [
    {
     "data": {
      "text/html": [
       "<div>\n",
       "<style scoped>\n",
       "    .dataframe tbody tr th:only-of-type {\n",
       "        vertical-align: middle;\n",
       "    }\n",
       "\n",
       "    .dataframe tbody tr th {\n",
       "        vertical-align: top;\n",
       "    }\n",
       "\n",
       "    .dataframe thead th {\n",
       "        text-align: right;\n",
       "    }\n",
       "</style>\n",
       "<table border=\"1\" class=\"dataframe\">\n",
       "  <thead>\n",
       "    <tr style=\"text-align: right;\">\n",
       "      <th></th>\n",
       "      <th>img_id</th>\n",
       "      <th>reject</th>\n",
       "      <th>label</th>\n",
       "      <th>probability</th>\n",
       "      <th>predicted_label</th>\n",
       "      <th>margin</th>\n",
       "    </tr>\n",
       "  </thead>\n",
       "  <tbody>\n",
       "    <tr>\n",
       "      <th>0</th>\n",
       "      <td>img_0</td>\n",
       "      <td>False</td>\n",
       "      <td>1</td>\n",
       "      <td>0.99986</td>\n",
       "      <td>1</td>\n",
       "      <td>0.49986</td>\n",
       "    </tr>\n",
       "    <tr>\n",
       "      <th>1</th>\n",
       "      <td>img_1</td>\n",
       "      <td>False</td>\n",
       "      <td>0</td>\n",
       "      <td>0.19939</td>\n",
       "      <td>0</td>\n",
       "      <td>0.30061</td>\n",
       "    </tr>\n",
       "    <tr>\n",
       "      <th>2</th>\n",
       "      <td>img_2</td>\n",
       "      <td>False</td>\n",
       "      <td>0</td>\n",
       "      <td>0.00000</td>\n",
       "      <td>0</td>\n",
       "      <td>0.50000</td>\n",
       "    </tr>\n",
       "    <tr>\n",
       "      <th>3</th>\n",
       "      <td>img_3</td>\n",
       "      <td>False</td>\n",
       "      <td>1</td>\n",
       "      <td>0.99572</td>\n",
       "      <td>1</td>\n",
       "      <td>0.49572</td>\n",
       "    </tr>\n",
       "    <tr>\n",
       "      <th>4</th>\n",
       "      <td>img_4</td>\n",
       "      <td>False</td>\n",
       "      <td>0</td>\n",
       "      <td>0.10408</td>\n",
       "      <td>0</td>\n",
       "      <td>0.39592</td>\n",
       "    </tr>\n",
       "  </tbody>\n",
       "</table>\n",
       "</div>"
      ],
      "text/plain": [
       "  img_id  reject  label  probability  predicted_label   margin\n",
       "0  img_0   False      1      0.99986                1  0.49986\n",
       "1  img_1   False      0      0.19939                0  0.30061\n",
       "2  img_2   False      0      0.00000                0  0.50000\n",
       "3  img_3   False      1      0.99572                1  0.49572\n",
       "4  img_4   False      0      0.10408                0  0.39592"
      ]
     },
     "execution_count": 6,
     "metadata": {},
     "output_type": "execute_result"
    }
   ],
   "source": [
    "df.head()"
   ]
  },
  {
   "cell_type": "code",
   "execution_count": 7,
   "metadata": {},
   "outputs": [],
   "source": [
    "correct = df[df[\"label\"] == df[\"predicted_label\"]]\n",
    "wrong = df[df[\"label\"] != df[\"predicted_label\"]]"
   ]
  },
  {
   "cell_type": "code",
   "execution_count": 8,
   "metadata": {},
   "outputs": [],
   "source": [
    "def calculate_reject_rate_by_margin(df, margin):\n",
    "    cond1 = df[\"margin\"] < margin\n",
    "    return len(df[cond1]) / len(df)"
   ]
  },
  {
   "cell_type": "code",
   "execution_count": 9,
   "metadata": {},
   "outputs": [
    {
     "name": "stdout",
     "output_type": "stream",
     "text": [
      "rejection rate: 0.14415862808145766\n"
     ]
    }
   ],
   "source": [
    "correct_reject = calculate_reject_rate_by_margin(wrong, margin=0.2)\n",
    "print(f\"rejection rate: {correct_reject}\")"
   ]
  },
  {
   "cell_type": "code",
   "execution_count": 10,
   "metadata": {},
   "outputs": [
    {
     "name": "stdout",
     "output_type": "stream",
     "text": [
      "rejection rate: 0.06621725403191399\n"
     ]
    }
   ],
   "source": [
    "wrong_reject = calculate_reject_rate_by_margin(correct, margin=0.2)\n",
    "print(f\"rejection rate: {wrong_reject}\")"
   ]
  },
  {
   "cell_type": "code",
   "execution_count": 11,
   "metadata": {},
   "outputs": [
    {
     "name": "stdout",
     "output_type": "stream",
     "text": [
      "total rejections: 0.088409423828125\n"
     ]
    }
   ],
   "source": [
    "total_reject = calculate_reject_rate_by_margin(df, margin=0.2)\n",
    "print(f\"total rejections: {total_reject}\")"
   ]
  },
  {
   "cell_type": "code",
   "execution_count": 12,
   "metadata": {},
   "outputs": [],
   "source": [
    "from src.metrics import calculate_metrics\n",
    "\n",
    "origial_metrics = calculate_metrics(df, label_col=\"label\", pred_col=\"predicted_label\")"
   ]
  },
  {
   "cell_type": "code",
   "execution_count": 13,
   "metadata": {},
   "outputs": [],
   "source": [
    "df_after_rejection = df[df[\"margin\"] > 0.2]\n",
    "metrics = calculate_metrics(\n",
    "    df_after_rejection, label_col=\"label\", pred_col=\"predicted_label\"\n",
    ")"
   ]
  },
  {
   "cell_type": "code",
   "execution_count": 14,
   "metadata": {},
   "outputs": [
    {
     "name": "stdout",
     "output_type": "stream",
     "text": [
      "after rejection: accuracy ---------- 0.7326838739914968\n",
      "original: accuracy ------------ 0.71527099609375 \n",
      "\n",
      "after rejection: precision ---------- 0.8186839810059114\n",
      "original: precision ------------ 0.8 \n",
      "\n",
      "after rejection: recall ---------- 0.5801400906468892\n",
      "original: recall ------------ 0.573731452647005 \n",
      "\n",
      "after rejection: f1_score ---------- 0.6790723845504602\n",
      "original: f1_score ------------ 0.668231278002987 \n",
      "\n",
      "after rejection: confusion_matrix ---------- [[13438, 1871], [6114, 8448]]\n",
      "original: confusion_matrix ------------ [[14042, 2349], [6981, 9396]] \n",
      "\n",
      "after rejection: classification_report ---------- {'0': {'precision': 0.6872954173486089, 'recall': 0.8777843098830753, 'f1-score': 0.770947477123433, 'support': 15309.0}, '1': {'precision': 0.8186839810059114, 'recall': 0.5801400906468892, 'f1-score': 0.6790723845504602, 'support': 14562.0}, 'accuracy': 0.7326838739914968, 'macro avg': {'precision': 0.7529896991772602, 'recall': 0.7289622002649823, 'f1-score': 0.7250099308369466, 'support': 29871.0}, 'weighted avg': {'precision': 0.7513468472966401, 'recall': 0.7326838739914968, 'f1-score': 0.7261587155135897, 'support': 29871.0}}\n",
      "original: classification_report ------------ {'0': {'precision': 0.6679351186795415, 'recall': 0.8566896467573668, 'f1-score': 0.7506281071256748, 'support': 16391.0}, '1': {'precision': 0.8, 'recall': 0.573731452647005, 'f1-score': 0.668231278002987, 'support': 16377.0}, 'accuracy': 0.71527099609375, 'macro avg': {'precision': 0.7339675593397708, 'recall': 0.7152105497021859, 'f1-score': 0.7094296925643309, 'support': 32768.0}, 'weighted avg': {'precision': 0.7339393472374378, 'recall': 0.71527099609375, 'f1-score': 0.709447294426021, 'support': 32768.0}} \n",
      "\n"
     ]
    }
   ],
   "source": [
    "for key in metrics.keys():\n",
    "    print(f\"after rejection: {key} ---------- {metrics[key]}\")\n",
    "    print(f\"original: {key} ------------ {origial_metrics[key]} \\n\")"
   ]
  },
  {
   "cell_type": "code",
   "execution_count": 15,
   "metadata": {},
   "outputs": [],
   "source": [
    "import matplotlib.pyplot as plt\n",
    "import seaborn as sns"
   ]
  },
  {
   "cell_type": "code",
   "execution_count": 17,
   "metadata": {},
   "outputs": [],
   "source": [
    "def plot_confusion_matrix(cm, title=\"Confusion matrix\", cmap=plt.cm.Blues):\n",
    "    # Create the plot\n",
    "    plt.figure(figsize=(8, 6))\n",
    "    sns.heatmap(cm, annot=True, fmt=\"d\", cmap=\"Blues\", cbar=False)\n",
    "    # Set axis labels and title\n",
    "    plt.xlabel(\"Predicted Label\")\n",
    "    plt.ylabel(\"True Label\")\n",
    "    plt.title(\"rejection confusion matrix\")\n",
    "    plt.tight_layout()\n",
    "    plt.show()"
   ]
  },
  {
   "cell_type": "code",
   "execution_count": 18,
   "metadata": {},
   "outputs": [
    {
     "data": {
      "image/png": "[encoded data removed]",
      "text/plain": [
       "<Figure size 800x600 with 1 Axes>"
      ]
     },
     "metadata": {},
     "output_type": "display_data"
    }
   ],
   "source": [
    "plot_confusion_matrix(metrics[\"confusion_matrix\"])"
   ]
  },
  {
   "cell_type": "code",
   "execution_count": 19,
   "metadata": {},
   "outputs": [
    {
     "data": {
      "image/png": "[encoded data removed]",
      "text/plain": [
       "<Figure size 800x600 with 1 Axes>"
      ]
     },
     "metadata": {},
     "output_type": "display_data"
    }
   ],
   "source": [
    "plot_confusion_matrix(origial_metrics[\"confusion_matrix\"])"
   ]
  },
  {
   "cell_type": "code",
   "execution_count": null,
   "metadata": {},
   "outputs": [],
   "source": []
  },
  {
   "cell_type": "code",
   "execution_count": null,
   "metadata": {},
   "outputs": [],
   "source": []
  }
 ],
 "metadata": {
  "kernelspec": {
   "display_name": "venv",
   "language": "python",
   "name": "python3"
  },
  "language_info": {
   "codemirror_mode": {
    "name": "ipython",
    "version": 3
   },
   "file_extension": ".py",
   "mimetype": "text/x-python",
   "name": "python",
   "nbconvert_exporter": "python",
   "pygments_lexer": "ipython3",
   "version": "3.10.16"
  }
 },
 "nbformat": 4,
 "nbformat_minor": 2
}
