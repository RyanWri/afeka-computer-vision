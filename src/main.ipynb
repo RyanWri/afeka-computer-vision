{
 "cells": [
  {
   "cell_type": "code",
   "execution_count": 1,
   "metadata": {},
   "outputs": [],
   "source": [
    "import pandas as pd"
   ]
  },
  {
   "cell_type": "code",
   "execution_count": 2,
   "metadata": {},
   "outputs": [],
   "source": [
    "filename = \"/home/ran/datasets/test.parquet\"\n",
    "df = pd.read_parquet(filename)"
   ]
  },
  {
   "cell_type": "code",
   "execution_count": 3,
   "metadata": {},
   "outputs": [
    {
     "data": {
      "text/html": [
       "<div>\n",
       "<style scoped>\n",
       "    .dataframe tbody tr th:only-of-type {\n",
       "        vertical-align: middle;\n",
       "    }\n",
       "\n",
       "    .dataframe tbody tr th {\n",
       "        vertical-align: top;\n",
       "    }\n",
       "\n",
       "    .dataframe thead th {\n",
       "        text-align: right;\n",
       "    }\n",
       "</style>\n",
       "<table border=\"1\" class=\"dataframe\">\n",
       "  <thead>\n",
       "    <tr style=\"text-align: right;\">\n",
       "      <th></th>\n",
       "      <th>image_id</th>\n",
       "      <th>image_tensor</th>\n",
       "      <th>label</th>\n",
       "    </tr>\n",
       "  </thead>\n",
       "  <tbody>\n",
       "    <tr>\n",
       "      <th>0</th>\n",
       "      <td>img_0</td>\n",
       "      <td>b'PK\\x03\\x04\\x00\\x00\\x08\\x08\\x00\\x00\\x00\\x00\\x...</td>\n",
       "      <td>0</td>\n",
       "    </tr>\n",
       "    <tr>\n",
       "      <th>1</th>\n",
       "      <td>img_1</td>\n",
       "      <td>b'PK\\x03\\x04\\x00\\x00\\x08\\x08\\x00\\x00\\x00\\x00\\x...</td>\n",
       "      <td>0</td>\n",
       "    </tr>\n",
       "    <tr>\n",
       "      <th>2</th>\n",
       "      <td>img_2</td>\n",
       "      <td>b'PK\\x03\\x04\\x00\\x00\\x08\\x08\\x00\\x00\\x00\\x00\\x...</td>\n",
       "      <td>0</td>\n",
       "    </tr>\n",
       "    <tr>\n",
       "      <th>3</th>\n",
       "      <td>img_3</td>\n",
       "      <td>b'PK\\x03\\x04\\x00\\x00\\x08\\x08\\x00\\x00\\x00\\x00\\x...</td>\n",
       "      <td>1</td>\n",
       "    </tr>\n",
       "    <tr>\n",
       "      <th>4</th>\n",
       "      <td>img_4</td>\n",
       "      <td>b'PK\\x03\\x04\\x00\\x00\\x08\\x08\\x00\\x00\\x00\\x00\\x...</td>\n",
       "      <td>1</td>\n",
       "    </tr>\n",
       "  </tbody>\n",
       "</table>\n",
       "</div>"
      ],
      "text/plain": [
       "  image_id                                       image_tensor  label\n",
       "0    img_0  b'PK\\x03\\x04\\x00\\x00\\x08\\x08\\x00\\x00\\x00\\x00\\x...      0\n",
       "1    img_1  b'PK\\x03\\x04\\x00\\x00\\x08\\x08\\x00\\x00\\x00\\x00\\x...      0\n",
       "2    img_2  b'PK\\x03\\x04\\x00\\x00\\x08\\x08\\x00\\x00\\x00\\x00\\x...      0\n",
       "3    img_3  b'PK\\x03\\x04\\x00\\x00\\x08\\x08\\x00\\x00\\x00\\x00\\x...      1\n",
       "4    img_4  b'PK\\x03\\x04\\x00\\x00\\x08\\x08\\x00\\x00\\x00\\x00\\x...      1"
      ]
     },
     "execution_count": 3,
     "metadata": {},
     "output_type": "execute_result"
    }
   ],
   "source": [
    "df.head()"
   ]
  },
  {
   "cell_type": "code",
   "execution_count": 4,
   "metadata": {},
   "outputs": [],
   "source": [
    "import pandas as pd\n",
    "import torch\n",
    "from io import BytesIO\n",
    "\n",
    "\n",
    "def load_dataset_from_dataframe(file_path):\n",
    "    \"\"\"\n",
    "    Load the dataset from a DataFrame stored in a Parquet file.\n",
    "\n",
    "    Args:\n",
    "        file_path (str): Path to the Parquet file.\n",
    "\n",
    "    Returns:\n",
    "        pd.DataFrame: Loaded DataFrame.\n",
    "    \"\"\"\n",
    "    df = pd.read_parquet(file_path, engine=\"pyarrow\")\n",
    "\n",
    "    # Convert image tensor bytes back to tensors\n",
    "    def bytes_to_tensor(image_bytes):\n",
    "        buffer = BytesIO(image_bytes)\n",
    "        return torch.load(buffer)\n",
    "\n",
    "    df[\"image_tensor\"] = df[\"image_tensor\"].apply(bytes_to_tensor)\n",
    "    return df"
   ]
  },
  {
   "cell_type": "code",
   "execution_count": 5,
   "metadata": {},
   "outputs": [
    {
     "name": "stderr",
     "output_type": "stream",
     "text": [
      "/tmp/ipykernel_254653/1638804816.py:23: FutureWarning: You are using `torch.load` with `weights_only=False` (the current default value), which uses the default pickle module implicitly. It is possible to construct malicious pickle data which will execute arbitrary code during unpickling (See https://github.com/pytorch/pytorch/blob/main/SECURITY.md#untrusted-models for more details). In a future release, the default value for `weights_only` will be flipped to `True`. This limits the functions that could be executed during unpickling. Arbitrary objects will no longer be allowed to be loaded via this mode unless they are explicitly allowlisted by the user via `torch.serialization.add_safe_globals`. We recommend you start setting `weights_only=True` for any use case where you don't have full control of the loaded file. Please open an issue on GitHub for any issues related to this experimental feature.\n",
      "  return torch.load(buffer)\n"
     ]
    },
    {
     "name": "stdout",
     "output_type": "stream",
     "text": [
      "  image_id                                       image_tensor  label\n",
      "0    img_0  [[[tensor(0.9059), tensor(0.9373), tensor(0.91...      0\n",
      "1    img_1  [[[tensor(0.9725), tensor(0.9529), tensor(0.76...      0\n",
      "2    img_2  [[[tensor(0.6431), tensor(0.4392), tensor(0.39...      0\n",
      "3    img_3  [[[tensor(0.6980), tensor(0.3882), tensor(0.35...      1\n",
      "4    img_4  [[[tensor(0.7412), tensor(0.8039), tensor(0.86...      1\n"
     ]
    }
   ],
   "source": [
    "df = load_dataset_from_dataframe(filename)\n",
    "print(df.head())"
   ]
  },
  {
   "cell_type": "code",
   "execution_count": 7,
   "metadata": {},
   "outputs": [
    {
     "data": {
      "text/plain": [
       "tensor([[[0.9059, 0.9373, 0.9137,  ..., 0.9608, 0.9490, 0.9412],\n",
       "         [0.9451, 0.9882, 0.9843,  ..., 0.9529, 0.9490, 0.9412],\n",
       "         [0.9608, 0.9608, 0.9294,  ..., 0.9529, 0.9451, 0.9412],\n",
       "         ...,\n",
       "         [0.9098, 0.7725, 0.3608,  ..., 0.9608, 0.9647, 0.9647],\n",
       "         [0.9686, 0.7137, 0.6863,  ..., 0.9608, 0.9608, 0.9647],\n",
       "         [0.6000, 1.0000, 0.9686,  ..., 0.9608, 0.9608, 0.9647]],\n",
       "\n",
       "        [[0.8706, 0.8824, 0.8235,  ..., 0.9451, 0.9569, 0.9608],\n",
       "         [0.9176, 0.9451, 0.9020,  ..., 0.9490, 0.9569, 0.9608],\n",
       "         [0.9412, 0.9216, 0.8667,  ..., 0.9490, 0.9529, 0.9608],\n",
       "         ...,\n",
       "         [0.6980, 0.5608, 0.1529,  ..., 0.9608, 0.9647, 0.9647],\n",
       "         [0.7961, 0.5451, 0.5333,  ..., 0.9608, 0.9608, 0.9647],\n",
       "         [0.4667, 0.9490, 0.8627,  ..., 0.9608, 0.9608, 0.9647]],\n",
       "\n",
       "        [[0.8431, 0.8706, 0.8471,  ..., 0.9412, 0.9451, 0.9451],\n",
       "         [0.8941, 0.9373, 0.9216,  ..., 0.9412, 0.9451, 0.9451],\n",
       "         [0.9255, 0.9176, 0.8784,  ..., 0.9412, 0.9412, 0.9451],\n",
       "         ...,\n",
       "         [0.7882, 0.6627, 0.2706,  ..., 0.9529, 0.9569, 0.9569],\n",
       "         [0.8627, 0.6196, 0.6157,  ..., 0.9529, 0.9529, 0.9569],\n",
       "         [0.5216, 1.0000, 0.9294,  ..., 0.9529, 0.9529, 0.9569]]])"
      ]
     },
     "execution_count": 7,
     "metadata": {},
     "output_type": "execute_result"
    }
   ],
   "source": [
    "df[\"image_tensor\"][0]"
   ]
  },
  {
   "cell_type": "code",
   "execution_count": null,
   "metadata": {},
   "outputs": [],
   "source": []
  }
 ],
 "metadata": {
  "kernelspec": {
   "display_name": "venv",
   "language": "python",
   "name": "python3"
  },
  "language_info": {
   "codemirror_mode": {
    "name": "ipython",
    "version": 3
   },
   "file_extension": ".py",
   "mimetype": "text/x-python",
   "name": "python",
   "nbconvert_exporter": "python",
   "pygments_lexer": "ipython3",
   "version": "3.10.16"
  }
 },
 "nbformat": 4,
 "nbformat_minor": 2
}
